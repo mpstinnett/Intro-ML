{
  "nbformat": 4,
  "nbformat_minor": 0,
  "metadata": {
    "colab": {
      "provenance": [],
      "collapsed_sections": [
        "ggtu21aXZE0l",
        "LldZEtVzZzf8",
        "H_roDKLErFjZ",
        "Gy-1ca1xfMdi",
        "jfoLsanliWgm",
        "9dGFtXNjprLh"
      ]
    },
    "kernelspec": {
      "name": "python3",
      "display_name": "Python 3"
    },
    "language_info": {
      "name": "python"
    }
  },
  "cells": [
    {
      "cell_type": "markdown",
      "source": [
        "\n",
        "\n",
        "# **Machine Learning With Sklearn**\n",
        "Performing Logisitic Regression, Decision Tree, and Neural Network using automobile data.  \n",
        "[Raw Data](https://raw.githubusercontent.com/mpstinnett/Intro-ML/main/ML_With_sklearn/Auto.csv)\n"
      ],
      "metadata": {
        "id": "fxU5mUWFWG3x"
      }
    },
    {
      "cell_type": "markdown",
      "source": [
        "## 1.) Load Data into Pandas Dataframe "
      ],
      "metadata": {
        "id": "ggtu21aXZE0l"
      }
    },
    {
      "cell_type": "code",
      "execution_count": 1,
      "metadata": {
        "colab": {
          "base_uri": "https://localhost:8080/",
          "height": 0
        },
        "id": "J2mOls7z2JtR",
        "outputId": "21ce03ad-c0ec-4efc-94d1-37257a5aea40"
      },
      "outputs": [
        {
          "output_type": "stream",
          "name": "stdout",
          "text": [
            "    mpg  cylinders  displacement  horsepower  weight  acceleration  year  \\\n",
            "0  18.0          8         307.0         130    3504          12.0  70.0   \n",
            "1  15.0          8         350.0         165    3693          11.5  70.0   \n",
            "2  18.0          8         318.0         150    3436          11.0  70.0   \n",
            "3  16.0          8         304.0         150    3433          12.0  70.0   \n",
            "4  17.0          8         302.0         140    3449           NaN  70.0   \n",
            "\n",
            "   origin                       name  \n",
            "0       1  chevrolet chevelle malibu  \n",
            "1       1          buick skylark 320  \n",
            "2       1         plymouth satellite  \n",
            "3       1              amc rebel sst  \n",
            "4       1                ford torino  \n",
            "\n",
            "Dimensions of data frame: (392, 9)\n"
          ]
        }
      ],
      "source": [
        "\n",
        "import pandas as pd\n",
        "\n",
        "df = pd.read_csv('https://raw.githubusercontent.com/mpstinnett/Intro-ML/main/ML_With_sklearn/Auto.csv')\n",
        "print(df.head())\n",
        "print('\\nDimensions of data frame:', df.shape)"
      ]
    },
    {
      "cell_type": "markdown",
      "source": [
        "## Data Exploration and Cleaning"
      ],
      "metadata": {
        "id": "LldZEtVzZzf8"
      }
    },
    {
      "cell_type": "markdown",
      "source": [
        "### 2.) Using Describe Function"
      ],
      "metadata": {
        "id": "e9mAodxaZ7e5"
      }
    },
    {
      "cell_type": "code",
      "source": [
        "df['mpg'].describe()\n",
        "# Average = 23.45\n",
        "# Range = 37"
      ],
      "metadata": {
        "colab": {
          "base_uri": "https://localhost:8080/",
          "height": 0
        },
        "id": "oJwRan5SBmJ3",
        "outputId": "9c4e4099-f7b8-43b0-cfe9-03ba0f204c94"
      },
      "execution_count": 2,
      "outputs": [
        {
          "output_type": "execute_result",
          "data": {
            "text/plain": [
              "count    392.000000\n",
              "mean      23.445918\n",
              "std        7.805007\n",
              "min        9.000000\n",
              "25%       17.000000\n",
              "50%       22.750000\n",
              "75%       29.000000\n",
              "max       46.600000\n",
              "Name: mpg, dtype: float64"
            ]
          },
          "metadata": {},
          "execution_count": 2
        }
      ]
    },
    {
      "cell_type": "code",
      "source": [
        "df['weight'].describe()\n",
        "# Average = 2977.58\n",
        "# Range = 3527"
      ],
      "metadata": {
        "colab": {
          "base_uri": "https://localhost:8080/",
          "height": 0
        },
        "id": "-7PDCMniaH5K",
        "outputId": "8a61d6f5-7873-494a-8694-5ef50674f760"
      },
      "execution_count": 3,
      "outputs": [
        {
          "output_type": "execute_result",
          "data": {
            "text/plain": [
              "count     392.000000\n",
              "mean     2977.584184\n",
              "std       849.402560\n",
              "min      1613.000000\n",
              "25%      2225.250000\n",
              "50%      2803.500000\n",
              "75%      3614.750000\n",
              "max      5140.000000\n",
              "Name: weight, dtype: float64"
            ]
          },
          "metadata": {},
          "execution_count": 3
        }
      ]
    },
    {
      "cell_type": "code",
      "source": [
        "df['year'].describe()\n",
        "# Average = 76.01\n",
        "# Range = 12"
      ],
      "metadata": {
        "colab": {
          "base_uri": "https://localhost:8080/",
          "height": 0
        },
        "id": "pvjuAuHlaIKK",
        "outputId": "78c55772-4ccc-47cb-be7f-322ac5ce587e"
      },
      "execution_count": 4,
      "outputs": [
        {
          "output_type": "execute_result",
          "data": {
            "text/plain": [
              "count    390.000000\n",
              "mean      76.010256\n",
              "std        3.668093\n",
              "min       70.000000\n",
              "25%       73.000000\n",
              "50%       76.000000\n",
              "75%       79.000000\n",
              "max       82.000000\n",
              "Name: year, dtype: float64"
            ]
          },
          "metadata": {},
          "execution_count": 4
        }
      ]
    },
    {
      "cell_type": "markdown",
      "source": [
        "### 3.) Explore Data Types"
      ],
      "metadata": {
        "id": "aZMVJeSzc9Fb"
      }
    },
    {
      "cell_type": "code",
      "source": [
        "print(df.dtypes)"
      ],
      "metadata": {
        "colab": {
          "base_uri": "https://localhost:8080/",
          "height": 0
        },
        "id": "rLTMQQoRdCVN",
        "outputId": "0e7eb2d0-65fe-4837-a999-9a61f6b6c0c9"
      },
      "execution_count": 5,
      "outputs": [
        {
          "output_type": "stream",
          "name": "stdout",
          "text": [
            "mpg             float64\n",
            "cylinders         int64\n",
            "displacement    float64\n",
            "horsepower        int64\n",
            "weight            int64\n",
            "acceleration    float64\n",
            "year            float64\n",
            "origin            int64\n",
            "name             object\n",
            "dtype: object\n"
          ]
        }
      ]
    },
    {
      "cell_type": "markdown",
      "source": [
        "Showing off two ways to change data types to categorical using cat.codes and not using cat.codes"
      ],
      "metadata": {
        "id": "TlNICv53f4HP"
      }
    },
    {
      "cell_type": "code",
      "source": [
        "# Using cat.codes\n",
        "df.cylinders = df.cylinders.astype('category').cat.codes\n",
        "# Not Using cat codes\n",
        "df.origin = df.origin.astype('category')"
      ],
      "metadata": {
        "id": "ItDs5s3vgMVw"
      },
      "execution_count": 6,
      "outputs": []
    },
    {
      "cell_type": "markdown",
      "source": [
        "Verifiying that the data types actually changed, notice how cylinders is using int8 for numeric factor codes as opposed to origin just being a category."
      ],
      "metadata": {
        "id": "0KzyazsEhUrB"
      }
    },
    {
      "cell_type": "code",
      "source": [
        "print(df.dtypes)"
      ],
      "metadata": {
        "colab": {
          "base_uri": "https://localhost:8080/",
          "height": 0
        },
        "id": "s5UHT6tEhZZz",
        "outputId": "18383d11-b5e3-496d-843a-1ac3d720c0ff"
      },
      "execution_count": 7,
      "outputs": [
        {
          "output_type": "stream",
          "name": "stdout",
          "text": [
            "mpg              float64\n",
            "cylinders           int8\n",
            "displacement     float64\n",
            "horsepower         int64\n",
            "weight             int64\n",
            "acceleration     float64\n",
            "year             float64\n",
            "origin          category\n",
            "name              object\n",
            "dtype: object\n"
          ]
        }
      ]
    },
    {
      "cell_type": "markdown",
      "source": [
        "### 4.) Dealing with NAs"
      ],
      "metadata": {
        "id": "xczcd9NMiQA6"
      }
    },
    {
      "cell_type": "code",
      "source": [
        "df = df.dropna()\n",
        "print('\\nDimensions of data frame:', df.shape)"
      ],
      "metadata": {
        "colab": {
          "base_uri": "https://localhost:8080/",
          "height": 0
        },
        "id": "lS2kJ8Egitj2",
        "outputId": "d2b91bce-f8dc-4df5-9f0f-bf8d9364742a"
      },
      "execution_count": 8,
      "outputs": [
        {
          "output_type": "stream",
          "name": "stdout",
          "text": [
            "\n",
            "Dimensions of data frame: (389, 9)\n"
          ]
        }
      ]
    },
    {
      "cell_type": "markdown",
      "source": [
        "### 5.) Modify columns"
      ],
      "metadata": {
        "id": "HFeq3c_XjXCQ"
      }
    },
    {
      "cell_type": "markdown",
      "source": [
        "Add a new categorical target column"
      ],
      "metadata": {
        "id": "QR2D-dRspS1V"
      }
    },
    {
      "cell_type": "code",
      "source": [
        "\n",
        "def CreateMPGHigh(df_row):\n",
        "  if df_row['mpg']  > 23:\n",
        "    return 1\n",
        "  else:\n",
        "    return 0\n",
        "df[\"mpg_high\"] = df.apply(CreateMPGHigh, axis=1)\n",
        "# Chained assingment warning can be safely ignored"
      ],
      "metadata": {
        "colab": {
          "base_uri": "https://localhost:8080/",
          "height": 0
        },
        "id": "WW0UJO9XjcHj",
        "outputId": "5f4bb8ee-cfbc-4b19-fb2c-12b2d755d045"
      },
      "execution_count": 9,
      "outputs": [
        {
          "output_type": "stream",
          "name": "stderr",
          "text": [
            "/usr/local/lib/python3.7/dist-packages/ipykernel_launcher.py:6: SettingWithCopyWarning: \n",
            "A value is trying to be set on a copy of a slice from a DataFrame.\n",
            "Try using .loc[row_indexer,col_indexer] = value instead\n",
            "\n",
            "See the caveats in the documentation: https://pandas.pydata.org/pandas-docs/stable/user_guide/indexing.html#returning-a-view-versus-a-copy\n",
            "  \n"
          ]
        }
      ]
    },
    {
      "cell_type": "markdown",
      "source": [
        "Delete the numeric column the categorical column is based on and unecessary column to make this data set classification ready"
      ],
      "metadata": {
        "id": "7am2YMRZpcLN"
      }
    },
    {
      "cell_type": "code",
      "source": [
        "df = df.drop([\"mpg\", \"name\"], axis=1)\n",
        "df.head()"
      ],
      "metadata": {
        "colab": {
          "base_uri": "https://localhost:8080/",
          "height": 206
        },
        "id": "Scck1pkspfnF",
        "outputId": "d79f4b8e-75e8-42ce-a8b7-0e262cae28c2"
      },
      "execution_count": 10,
      "outputs": [
        {
          "output_type": "execute_result",
          "data": {
            "text/plain": [
              "   cylinders  displacement  horsepower  weight  acceleration  year origin  \\\n",
              "0          4         307.0         130    3504          12.0  70.0      1   \n",
              "1          4         350.0         165    3693          11.5  70.0      1   \n",
              "2          4         318.0         150    3436          11.0  70.0      1   \n",
              "3          4         304.0         150    3433          12.0  70.0      1   \n",
              "6          4         454.0         220    4354           9.0  70.0      1   \n",
              "\n",
              "   mpg_high  \n",
              "0         0  \n",
              "1         0  \n",
              "2         0  \n",
              "3         0  \n",
              "6         0  "
            ],
            "text/html": [
              "\n",
              "  <div id=\"df-703921d0-8d97-4fd4-b87e-e6eaf49be032\">\n",
              "    <div class=\"colab-df-container\">\n",
              "      <div>\n",
              "<style scoped>\n",
              "    .dataframe tbody tr th:only-of-type {\n",
              "        vertical-align: middle;\n",
              "    }\n",
              "\n",
              "    .dataframe tbody tr th {\n",
              "        vertical-align: top;\n",
              "    }\n",
              "\n",
              "    .dataframe thead th {\n",
              "        text-align: right;\n",
              "    }\n",
              "</style>\n",
              "<table border=\"1\" class=\"dataframe\">\n",
              "  <thead>\n",
              "    <tr style=\"text-align: right;\">\n",
              "      <th></th>\n",
              "      <th>cylinders</th>\n",
              "      <th>displacement</th>\n",
              "      <th>horsepower</th>\n",
              "      <th>weight</th>\n",
              "      <th>acceleration</th>\n",
              "      <th>year</th>\n",
              "      <th>origin</th>\n",
              "      <th>mpg_high</th>\n",
              "    </tr>\n",
              "  </thead>\n",
              "  <tbody>\n",
              "    <tr>\n",
              "      <th>0</th>\n",
              "      <td>4</td>\n",
              "      <td>307.0</td>\n",
              "      <td>130</td>\n",
              "      <td>3504</td>\n",
              "      <td>12.0</td>\n",
              "      <td>70.0</td>\n",
              "      <td>1</td>\n",
              "      <td>0</td>\n",
              "    </tr>\n",
              "    <tr>\n",
              "      <th>1</th>\n",
              "      <td>4</td>\n",
              "      <td>350.0</td>\n",
              "      <td>165</td>\n",
              "      <td>3693</td>\n",
              "      <td>11.5</td>\n",
              "      <td>70.0</td>\n",
              "      <td>1</td>\n",
              "      <td>0</td>\n",
              "    </tr>\n",
              "    <tr>\n",
              "      <th>2</th>\n",
              "      <td>4</td>\n",
              "      <td>318.0</td>\n",
              "      <td>150</td>\n",
              "      <td>3436</td>\n",
              "      <td>11.0</td>\n",
              "      <td>70.0</td>\n",
              "      <td>1</td>\n",
              "      <td>0</td>\n",
              "    </tr>\n",
              "    <tr>\n",
              "      <th>3</th>\n",
              "      <td>4</td>\n",
              "      <td>304.0</td>\n",
              "      <td>150</td>\n",
              "      <td>3433</td>\n",
              "      <td>12.0</td>\n",
              "      <td>70.0</td>\n",
              "      <td>1</td>\n",
              "      <td>0</td>\n",
              "    </tr>\n",
              "    <tr>\n",
              "      <th>6</th>\n",
              "      <td>4</td>\n",
              "      <td>454.0</td>\n",
              "      <td>220</td>\n",
              "      <td>4354</td>\n",
              "      <td>9.0</td>\n",
              "      <td>70.0</td>\n",
              "      <td>1</td>\n",
              "      <td>0</td>\n",
              "    </tr>\n",
              "  </tbody>\n",
              "</table>\n",
              "</div>\n",
              "      <button class=\"colab-df-convert\" onclick=\"convertToInteractive('df-703921d0-8d97-4fd4-b87e-e6eaf49be032')\"\n",
              "              title=\"Convert this dataframe to an interactive table.\"\n",
              "              style=\"display:none;\">\n",
              "        \n",
              "  <svg xmlns=\"http://www.w3.org/2000/svg\" height=\"24px\"viewBox=\"0 0 24 24\"\n",
              "       width=\"24px\">\n",
              "    <path d=\"M0 0h24v24H0V0z\" fill=\"none\"/>\n",
              "    <path d=\"M18.56 5.44l.94 2.06.94-2.06 2.06-.94-2.06-.94-.94-2.06-.94 2.06-2.06.94zm-11 1L8.5 8.5l.94-2.06 2.06-.94-2.06-.94L8.5 2.5l-.94 2.06-2.06.94zm10 10l.94 2.06.94-2.06 2.06-.94-2.06-.94-.94-2.06-.94 2.06-2.06.94z\"/><path d=\"M17.41 7.96l-1.37-1.37c-.4-.4-.92-.59-1.43-.59-.52 0-1.04.2-1.43.59L10.3 9.45l-7.72 7.72c-.78.78-.78 2.05 0 2.83L4 21.41c.39.39.9.59 1.41.59.51 0 1.02-.2 1.41-.59l7.78-7.78 2.81-2.81c.8-.78.8-2.07 0-2.86zM5.41 20L4 18.59l7.72-7.72 1.47 1.35L5.41 20z\"/>\n",
              "  </svg>\n",
              "      </button>\n",
              "      \n",
              "  <style>\n",
              "    .colab-df-container {\n",
              "      display:flex;\n",
              "      flex-wrap:wrap;\n",
              "      gap: 12px;\n",
              "    }\n",
              "\n",
              "    .colab-df-convert {\n",
              "      background-color: #E8F0FE;\n",
              "      border: none;\n",
              "      border-radius: 50%;\n",
              "      cursor: pointer;\n",
              "      display: none;\n",
              "      fill: #1967D2;\n",
              "      height: 32px;\n",
              "      padding: 0 0 0 0;\n",
              "      width: 32px;\n",
              "    }\n",
              "\n",
              "    .colab-df-convert:hover {\n",
              "      background-color: #E2EBFA;\n",
              "      box-shadow: 0px 1px 2px rgba(60, 64, 67, 0.3), 0px 1px 3px 1px rgba(60, 64, 67, 0.15);\n",
              "      fill: #174EA6;\n",
              "    }\n",
              "\n",
              "    [theme=dark] .colab-df-convert {\n",
              "      background-color: #3B4455;\n",
              "      fill: #D2E3FC;\n",
              "    }\n",
              "\n",
              "    [theme=dark] .colab-df-convert:hover {\n",
              "      background-color: #434B5C;\n",
              "      box-shadow: 0px 1px 3px 1px rgba(0, 0, 0, 0.15);\n",
              "      filter: drop-shadow(0px 1px 2px rgba(0, 0, 0, 0.3));\n",
              "      fill: #FFFFFF;\n",
              "    }\n",
              "  </style>\n",
              "\n",
              "      <script>\n",
              "        const buttonEl =\n",
              "          document.querySelector('#df-703921d0-8d97-4fd4-b87e-e6eaf49be032 button.colab-df-convert');\n",
              "        buttonEl.style.display =\n",
              "          google.colab.kernel.accessAllowed ? 'block' : 'none';\n",
              "\n",
              "        async function convertToInteractive(key) {\n",
              "          const element = document.querySelector('#df-703921d0-8d97-4fd4-b87e-e6eaf49be032');\n",
              "          const dataTable =\n",
              "            await google.colab.kernel.invokeFunction('convertToInteractive',\n",
              "                                                     [key], {});\n",
              "          if (!dataTable) return;\n",
              "\n",
              "          const docLinkHtml = 'Like what you see? Visit the ' +\n",
              "            '<a target=\"_blank\" href=https://colab.research.google.com/notebooks/data_table.ipynb>data table notebook</a>'\n",
              "            + ' to learn more about interactive tables.';\n",
              "          element.innerHTML = '';\n",
              "          dataTable['output_type'] = 'display_data';\n",
              "          await google.colab.output.renderOutput(dataTable, element);\n",
              "          const docLink = document.createElement('div');\n",
              "          docLink.innerHTML = docLinkHtml;\n",
              "          element.appendChild(docLink);\n",
              "        }\n",
              "      </script>\n",
              "    </div>\n",
              "  </div>\n",
              "  "
            ]
          },
          "metadata": {},
          "execution_count": 10
        }
      ]
    },
    {
      "cell_type": "markdown",
      "source": [
        "### 6.) Exploring data with Seaborn Graphs"
      ],
      "metadata": {
        "id": "H_roDKLErFjZ"
      }
    },
    {
      "cell_type": "markdown",
      "source": [
        "Catplot on mpg_high"
      ],
      "metadata": {
        "id": "IWP2VVp-sOkL"
      }
    },
    {
      "cell_type": "code",
      "source": [
        "import seaborn as sb\n",
        "sb.catplot(x=\"mpg_high\", kind='count', data=df)\n",
        "# There is about 20 more low mpg cars compared to high in the data set. "
      ],
      "metadata": {
        "colab": {
          "base_uri": "https://localhost:8080/",
          "height": 386
        },
        "id": "l2fLUx_UsTSc",
        "outputId": "47012f12-328b-402f-d3db-b37c5533eb2d"
      },
      "execution_count": 11,
      "outputs": [
        {
          "output_type": "execute_result",
          "data": {
            "text/plain": [
              "<seaborn.axisgrid.FacetGrid at 0x7f24e17e9b50>"
            ]
          },
          "metadata": {},
          "execution_count": 11
        },
        {
          "output_type": "display_data",
          "data": {
            "text/plain": [
              "<Figure size 360x360 with 1 Axes>"
            ],
            "image/png": "[encoded data removed]"
          },
          "metadata": {
            "needs_background": "light"
          }
        }
      ]
    },
    {
      "cell_type": "markdown",
      "source": [
        "Relplot horsepower vs weight with hue and style of mpg_high"
      ],
      "metadata": {
        "id": "XGmezYiBs2P0"
      }
    },
    {
      "cell_type": "code",
      "source": [
        "sb.relplot(x='horsepower', y='weight', data=df, hue=df.mpg_high, style=df.mpg_high)\n",
        "# Low horse power, Low weight cars tend to have better mpg. "
      ],
      "metadata": {
        "colab": {
          "base_uri": "https://localhost:8080/",
          "height": 386
        },
        "id": "N3RkeTlttDYq",
        "outputId": "bcb53a27-59c5-4e47-d9be-ceb66e51e336"
      },
      "execution_count": 12,
      "outputs": [
        {
          "output_type": "execute_result",
          "data": {
            "text/plain": [
              "<seaborn.axisgrid.FacetGrid at 0x7f24d5d97250>"
            ]
          },
          "metadata": {},
          "execution_count": 12
        },
        {
          "output_type": "display_data",
          "data": {
            "text/plain": [
              "<Figure size 417.25x360 with 1 Axes>"
            ],
            "image/png": "[encoded data removed]"
          },
          "metadata": {
            "needs_background": "light"
          }
        }
      ]
    },
    {
      "cell_type": "markdown",
      "source": [
        "Boxplot mpg_high vs weight"
      ],
      "metadata": {
        "id": "orixZxCHtwx9"
      }
    },
    {
      "cell_type": "code",
      "source": [
        "sb.boxplot(x='mpg_high', y='weight', data=df)\n",
        "# Some outliers exist that have about the same median weight of low mpg cars but still get high mpg. "
      ],
      "metadata": {
        "colab": {
          "base_uri": "https://localhost:8080/",
          "height": 297
        },
        "id": "yyQwkG95t1vT",
        "outputId": "56c92649-f7b7-4ea6-cce0-c0b16ab224b3"
      },
      "execution_count": 13,
      "outputs": [
        {
          "output_type": "execute_result",
          "data": {
            "text/plain": [
              "<matplotlib.axes._subplots.AxesSubplot at 0x7f24d26eb210>"
            ]
          },
          "metadata": {},
          "execution_count": 13
        },
        {
          "output_type": "display_data",
          "data": {
            "text/plain": [
              "<Figure size 432x288 with 1 Axes>"
            ],
            "image/png": "[encoded data removed]"
          },
          "metadata": {
            "needs_background": "light"
          }
        }
      ]
    },
    {
      "cell_type": "markdown",
      "source": [
        "## Machine Learning"
      ],
      "metadata": {
        "id": "rnHeruOlesxs"
      }
    },
    {
      "cell_type": "markdown",
      "source": [
        "### 7.) Train/Test split 80/20"
      ],
      "metadata": {
        "id": "Gy-1ca1xfMdi"
      }
    },
    {
      "cell_type": "code",
      "source": [
        "from sklearn.model_selection import train_test_split\n",
        "\n",
        "X = df.loc[:, df.columns != \"mpg_high\"]\n",
        "y = df.mpg_high\n",
        "\n",
        "X_train, X_test, y_train, y_test = train_test_split(X, y, test_size=0.2, random_state=1234)\n",
        "print('train size:', X_train.shape)\n",
        "print('test size:', X_test.shape)"
      ],
      "metadata": {
        "colab": {
          "base_uri": "https://localhost:8080/",
          "height": 0
        },
        "id": "75TpvwUwe2zC",
        "outputId": "d4d1c5da-5091-4529-d081-21c884daaf95"
      },
      "execution_count": 19,
      "outputs": [
        {
          "output_type": "stream",
          "name": "stdout",
          "text": [
            "train size: (311, 7)\n",
            "test size: (78, 7)\n"
          ]
        }
      ]
    },
    {
      "cell_type": "markdown",
      "source": [
        "### 8.) Logistic Regression using solver lbfgs"
      ],
      "metadata": {
        "id": "jfoLsanliWgm"
      }
    },
    {
      "cell_type": "markdown",
      "source": [
        "Train the model"
      ],
      "metadata": {
        "id": "YrvifK1uimpa"
      }
    },
    {
      "cell_type": "code",
      "source": [
        "from sklearn.linear_model import LogisticRegression\n",
        "logReg = LogisticRegression(solver='lbfgs', max_iter=1000)\n",
        "logReg.fit(X_train, y_train)\n",
        "logReg.score(X_train, y_train)"
      ],
      "metadata": {
        "colab": {
          "base_uri": "https://localhost:8080/",
          "height": 0
        },
        "id": "pusVR9CGihlE",
        "outputId": "27a851da-2e72-49a4-ac94-1c134713f4bc"
      },
      "execution_count": 21,
      "outputs": [
        {
          "output_type": "execute_result",
          "data": {
            "text/plain": [
              "0.9035369774919614"
            ]
          },
          "metadata": {},
          "execution_count": 21
        }
      ]
    },
    {
      "cell_type": "markdown",
      "source": [
        "Test and evaluate"
      ],
      "metadata": {
        "id": "yDtjPTJ6iujr"
      }
    },
    {
      "cell_type": "code",
      "source": [
        "# make prediction\n",
        "logRegPred = logReg.predict(X_test)\n",
        "\n",
        "# evaluate\n",
        "from sklearn.metrics import accuracy_score, precision_score, recall_score, f1_score\n",
        "\n",
        "print('accuracy score: ', accuracy_score(y_test, logRegPred))\n",
        "print('precision score: ', precision_score(y_test, logRegPred))\n",
        "print('recall score: ', recall_score(y_test, logRegPred))\n",
        "print('f1 score: ', f1_score(y_test, logRegPred))\n",
        "\n",
        "# confusion matrix\n",
        "from sklearn.metrics import confusion_matrix\n",
        "\n",
        "confusion_matrix(y_test, logRegPred)"
      ],
      "metadata": {
        "colab": {
          "base_uri": "https://localhost:8080/"
        },
        "id": "shz2J46qixGY",
        "outputId": "5cd17836-8363-470b-ae14-a238d10e2bba"
      },
      "execution_count": 28,
      "outputs": [
        {
          "output_type": "stream",
          "name": "stdout",
          "text": [
            "accuracy score:  0.8717948717948718\n",
            "precision score:  0.75\n",
            "recall score:  0.9642857142857143\n",
            "f1 score:  0.8437499999999999\n"
          ]
        },
        {
          "output_type": "execute_result",
          "data": {
            "text/plain": [
              "array([[41,  9],\n",
              "       [ 1, 27]])"
            ]
          },
          "metadata": {},
          "execution_count": 28
        }
      ]
    },
    {
      "cell_type": "markdown",
      "source": [
        "Classifcation Report"
      ],
      "metadata": {
        "id": "EqOtFLfaixaz"
      }
    },
    {
      "cell_type": "code",
      "source": [
        "from sklearn.metrics import classification_report\n",
        "print(classification_report(y_test, logRegPred))"
      ],
      "metadata": {
        "colab": {
          "base_uri": "https://localhost:8080/"
        },
        "id": "jz-ENcTui4Gt",
        "outputId": "dc405fb9-73bb-40b4-8179-468dd9fac69c"
      },
      "execution_count": 26,
      "outputs": [
        {
          "output_type": "stream",
          "name": "stdout",
          "text": [
            "              precision    recall  f1-score   support\n",
            "\n",
            "           0       0.98      0.82      0.89        50\n",
            "           1       0.75      0.96      0.84        28\n",
            "\n",
            "    accuracy                           0.87        78\n",
            "   macro avg       0.86      0.89      0.87        78\n",
            "weighted avg       0.89      0.87      0.87        78\n",
            "\n"
          ]
        }
      ]
    },
    {
      "cell_type": "code",
      "source": [],
      "metadata": {
        "id": "UzQQzla_oy18"
      },
      "execution_count": null,
      "outputs": []
    },
    {
      "cell_type": "markdown",
      "source": [
        "### 9.) Decision Tree"
      ],
      "metadata": {
        "id": "9dGFtXNjprLh"
      }
    },
    {
      "cell_type": "markdown",
      "source": [
        "Train the model\n"
      ],
      "metadata": {
        "id": "tCgVD_aXqa9c"
      }
    },
    {
      "cell_type": "code",
      "source": [
        "from sklearn.tree import DecisionTreeClassifier\n",
        "\n",
        "DT = DecisionTreeClassifier()\n",
        "DT.fit(X_train, y_train)"
      ],
      "metadata": {
        "colab": {
          "base_uri": "https://localhost:8080/"
        },
        "id": "E6SIjV68p19L",
        "outputId": "e41cd7b6-ec0e-446f-f801-ec9d0f1dc3e1"
      },
      "execution_count": 29,
      "outputs": [
        {
          "output_type": "execute_result",
          "data": {
            "text/plain": [
              "DecisionTreeClassifier()"
            ]
          },
          "metadata": {},
          "execution_count": 29
        }
      ]
    },
    {
      "cell_type": "markdown",
      "source": [
        "Test and Evaluate"
      ],
      "metadata": {
        "id": "cfpPhLo7qmBi"
      }
    },
    {
      "cell_type": "code",
      "source": [
        "# make predictions\n",
        "\n",
        "DTpred = DT.predict(X_test)\n",
        "\n",
        "# evaluate\n",
        "from sklearn.metrics import accuracy_score, precision_score, recall_score, f1_score\n",
        "\n",
        "print('accuracy score: ', accuracy_score(y_test, DTpred))\n",
        "print('precision score: ', precision_score(y_test, DTpred))\n",
        "print('recall score: ', recall_score(y_test, DTpred))\n",
        "print('f1 score: ', f1_score(y_test, DTpred))\n",
        "\n",
        "# confusion matrix\n",
        "from sklearn.metrics import confusion_matrix\n",
        "\n",
        "confusion_matrix(y_test, DTpred)"
      ],
      "metadata": {
        "colab": {
          "base_uri": "https://localhost:8080/"
        },
        "id": "3mefcI8bqodg",
        "outputId": "816651e8-8378-4709-e03a-ff4d287ff608"
      },
      "execution_count": 31,
      "outputs": [
        {
          "output_type": "stream",
          "name": "stdout",
          "text": [
            "accuracy score:  0.8974358974358975\n",
            "precision score:  0.8333333333333334\n",
            "recall score:  0.8928571428571429\n",
            "f1 score:  0.8620689655172413\n"
          ]
        },
        {
          "output_type": "execute_result",
          "data": {
            "text/plain": [
              "array([[45,  5],\n",
              "       [ 3, 25]])"
            ]
          },
          "metadata": {},
          "execution_count": 31
        }
      ]
    },
    {
      "cell_type": "markdown",
      "source": [
        "Classification Report"
      ],
      "metadata": {
        "id": "jcVKF7hMqpXy"
      }
    },
    {
      "cell_type": "code",
      "source": [
        "print(classification_report(y_test, DTpred))"
      ],
      "metadata": {
        "colab": {
          "base_uri": "https://localhost:8080/"
        },
        "id": "2_Ulga37qq-8",
        "outputId": "db081efa-ac2a-44fa-8e82-ceb7e43c5c08"
      },
      "execution_count": 50,
      "outputs": [
        {
          "output_type": "stream",
          "name": "stdout",
          "text": [
            "              precision    recall  f1-score   support\n",
            "\n",
            "           0       0.94      0.90      0.92        50\n",
            "           1       0.83      0.89      0.86        28\n",
            "\n",
            "    accuracy                           0.90        78\n",
            "   macro avg       0.89      0.90      0.89        78\n",
            "weighted avg       0.90      0.90      0.90        78\n",
            "\n"
          ]
        }
      ]
    },
    {
      "cell_type": "markdown",
      "source": [
        "Tree Plot"
      ],
      "metadata": {
        "id": "HpLtXBRMqr5w"
      }
    },
    {
      "cell_type": "code",
      "source": [
        "from sklearn import tree\n",
        "import matplotlib.pyplot as plt\n",
        "# plot tree\n",
        "plt.figure(figsize=(16,16))\n",
        "tree.plot_tree(DT, fontsize=7)\n",
        "plt.show()"
      ],
      "metadata": {
        "colab": {
          "base_uri": "https://localhost:8080/",
          "height": 901
        },
        "id": "v9e-_T6Jqt2T",
        "outputId": "1f2b3669-2af9-405d-aad0-10c5b25fe3d2"
      },
      "execution_count": 44,
      "outputs": [
        {
          "output_type": "display_data",
          "data": {
            "text/plain": [
              "<Figure size 1152x1152 with 1 Axes>"
            ],
            "image/png": "[encoded data removed]"
          },
          "metadata": {
            "needs_background": "light"
          }
        }
      ]
    },
    {
      "cell_type": "markdown",
      "source": [
        "### 10.) Neural Network"
      ],
      "metadata": {
        "id": "XW8ZoTtSvdfe"
      }
    },
    {
      "cell_type": "markdown",
      "source": [
        "Normalize the data"
      ],
      "metadata": {
        "id": "rLZxsZfowzJv"
      }
    },
    {
      "cell_type": "code",
      "source": [
        "# normalize the data\n",
        "from sklearn import preprocessing\n",
        "\n",
        "scaler = preprocessing.StandardScaler().fit(X_train)\n",
        "\n",
        "X_train_scaled = scaler.transform(X_train)\n",
        "X_test_scaled = scaler.transform(X_test)"
      ],
      "metadata": {
        "id": "B-VlvODMwevL"
      },
      "execution_count": 45,
      "outputs": []
    },
    {
      "cell_type": "markdown",
      "source": [
        "Train the first Neural Network (2 Hidden layers of sizes 5 and 2 with 1000 iterations)"
      ],
      "metadata": {
        "id": "E1c8Dh_fw8z-"
      }
    },
    {
      "cell_type": "code",
      "source": [
        "# train \n",
        "from sklearn.neural_network import MLPClassifier\n",
        "\n",
        "NN1 = MLPClassifier(solver='lbfgs', hidden_layer_sizes=(5, 2), max_iter=1000, random_state=1234)\n",
        "NN1.fit(X_train_scaled, y_train)"
      ],
      "metadata": {
        "colab": {
          "base_uri": "https://localhost:8080/"
        },
        "id": "OmFVHaqLxKCA",
        "outputId": "44966fd9-d7d7-4d95-b16c-f57e22591437"
      },
      "execution_count": 49,
      "outputs": [
        {
          "output_type": "execute_result",
          "data": {
            "text/plain": [
              "MLPClassifier(hidden_layer_sizes=(5, 2), max_iter=1000, random_state=1234,\n",
              "              solver='lbfgs')"
            ]
          },
          "metadata": {},
          "execution_count": 49
        }
      ]
    },
    {
      "cell_type": "markdown",
      "source": [
        "Evaluate the first Neural Network"
      ],
      "metadata": {
        "id": "ckirv7kqyMjz"
      }
    },
    {
      "cell_type": "code",
      "source": [
        "# make predictions\n",
        "\n",
        "NN1pred = NN1.predict(X_test_scaled)\n",
        "\n",
        "# output results\n",
        "print('accuracy = ', accuracy_score(y_test, NN1pred))\n",
        "print('confustion matrix = ')\n",
        "print(confusion_matrix(y_test, NN1pred))\n",
        "print(classification_report(y_test, NN1pred))"
      ],
      "metadata": {
        "colab": {
          "base_uri": "https://localhost:8080/"
        },
        "id": "jo3ylGOIyQRB",
        "outputId": "a55b7981-34b8-40e6-fb52-f3e79fec5b0d"
      },
      "execution_count": 55,
      "outputs": [
        {
          "output_type": "stream",
          "name": "stdout",
          "text": [
            "accuracy =  0.8717948717948718\n",
            "confustion matrix = \n",
            "[[42  8]\n",
            " [ 2 26]]\n",
            "              precision    recall  f1-score   support\n",
            "\n",
            "           0       0.95      0.84      0.89        50\n",
            "           1       0.76      0.93      0.84        28\n",
            "\n",
            "    accuracy                           0.87        78\n",
            "   macro avg       0.86      0.88      0.87        78\n",
            "weighted avg       0.89      0.87      0.87        78\n",
            "\n"
          ]
        }
      ]
    },
    {
      "cell_type": "markdown",
      "source": [
        "Train the second Neural Network (2 Hidden layers of sizes 6 and 3 with 1500 iterations)\n"
      ],
      "metadata": {
        "id": "7CDzw0NNztEq"
      }
    },
    {
      "cell_type": "code",
      "source": [
        "# train \n",
        "from sklearn.neural_network import MLPClassifier\n",
        "\n",
        "NN2 = MLPClassifier(solver='lbfgs', hidden_layer_sizes=(6, 3), max_iter=1000, random_state=1234)\n",
        "NN2.fit(X_train_scaled, y_train)"
      ],
      "metadata": {
        "colab": {
          "base_uri": "https://localhost:8080/"
        },
        "id": "oeJRHsds0GQR",
        "outputId": "d2c87524-9eba-4ec0-f2c4-dc623e348139"
      },
      "execution_count": 66,
      "outputs": [
        {
          "output_type": "execute_result",
          "data": {
            "text/plain": [
              "MLPClassifier(hidden_layer_sizes=(6, 3), max_iter=1000, random_state=1234,\n",
              "              solver='lbfgs')"
            ]
          },
          "metadata": {},
          "execution_count": 66
        }
      ]
    },
    {
      "cell_type": "markdown",
      "source": [
        "Evaluate the second Neural Network"
      ],
      "metadata": {
        "id": "0eobnbMB0TIG"
      }
    },
    {
      "cell_type": "code",
      "source": [
        "# make predictions\n",
        "\n",
        "NN2pred = NN2.predict(X_test_scaled)\n",
        "\n",
        "# output results\n",
        "print('accuracy = ', accuracy_score(y_test, NN2pred))\n",
        "print('confustion matrix = ')\n",
        "print(confusion_matrix(y_test, NN2pred))\n",
        "print(classification_report(y_test, NN2pred))"
      ],
      "metadata": {
        "colab": {
          "base_uri": "https://localhost:8080/"
        },
        "id": "hdlOQmH-0V7j",
        "outputId": "6c693ec2-05f2-40ca-abb9-f155598290b8"
      },
      "execution_count": 67,
      "outputs": [
        {
          "output_type": "stream",
          "name": "stdout",
          "text": [
            "accuracy =  0.9102564102564102\n",
            "confustion matrix = \n",
            "[[45  5]\n",
            " [ 2 26]]\n",
            "              precision    recall  f1-score   support\n",
            "\n",
            "           0       0.96      0.90      0.93        50\n",
            "           1       0.84      0.93      0.88        28\n",
            "\n",
            "    accuracy                           0.91        78\n",
            "   macro avg       0.90      0.91      0.90        78\n",
            "weighted avg       0.91      0.91      0.91        78\n",
            "\n"
          ]
        }
      ]
    },
    {
      "cell_type": "markdown",
      "source": [
        "**Comparing the two Neural Networks:**  \n",
        "The second model had better results with 3 more correctly classified low mpgs.\n",
        "Giving the second model an accuracy of 91% while the first had an accuracy of 87%. I believe the first model was underfitting the data because the only difference between the two was the number of nodes in the two hidden layers. I increased the number of nodes by 1 in each layer. According to the rule of thumb, the hidden layer size should be 2/3 * 7 (input size) + 1 (output size). Which is 5.66. Which rounds better to 6 nodes and not the 5 nodes in the first neural network. Since the first network topology was just a guess, I followed the pattern of adding one node to each hidden layer. That seemed to be the right direction because it resulted in a higher accuracy. "
      ],
      "metadata": {
        "id": "Iweqn60m1Bgh"
      }
    },
    {
      "cell_type": "markdown",
      "source": [
        "## 11.) Analysis\n",
        "\n",
        "**Logistic Regression**   \n",
        "Accuracy: 87%  \n",
        "Precision: 75%  \n",
        "Recall: 96%  \n",
        "**Decision Tree**   \n",
        "Accuracy: 90%  \n",
        "Precision: 83%  \n",
        "Recall: 89%  \n",
        "**Neural Network 1**   \n",
        "Accuracy: 87%  \n",
        "Precision: 89%  \n",
        "Recall: 87%  \n",
        "**Neural Network 2**   \n",
        "Accuracy: 91%  \n",
        "Precision: 91%  \n",
        "Recall: 91%  \n",
        "\n",
        "**Which algorithm performed better?**  \n",
        "It seems like the most consistent best performer is Neural Network 2. Even though Logisitic Regression beats it in recall score, overall Neural Network 2 has a better average. \n",
        "\n",
        "**Why?**  \n",
        "Firstly, analysis above explains why Neural Network 2 is performing better than Neural Network 1. I believe a similar reasoning can be given as to why Neural Network 2 performed better than Logistic Regression. Logistic Regression likely underfit the data due to complex non-linear decision boundaries. Neural Networks can shine when the decision boundary is complex. Lastly, we see that Decision Tree is comparable to Neural Network 1 and beats out Logistic Regression. This is more evidence that the decison boundary was not linear. However, with decision tree being a high variance algorithm, a base tree without bagging, boosting, and pruning is prone to poorer performance. Thus, Neural Network works the best here, even though there is not much data. I believe that a bagged tree or random forest would likely be the best algorithm for this case, but was not tested here.  \n",
        "  \n",
        "**Sklearn VS R**  \n",
        "Personally I prefer Sklearn. As a programmer first and a statistician second, I like the freedom of working in a Python environment over being locked in to the statistic focused world of R. Many semantics of R take a bit to get used. Especially the fact that R data structures first index is 1 vs most programming languages starting at 0. However, R studio is a beautiful IDE. I was impressed visually and with how user friendly it is. Also, R studio has a spell checker. I am writing this in google colab, and there is no spell checker, so you will definitely see spelling mistakes in this notebook. \n",
        "\n"
      ],
      "metadata": {
        "id": "hM75lAW8BVh1"
      }
    }
  ]
}